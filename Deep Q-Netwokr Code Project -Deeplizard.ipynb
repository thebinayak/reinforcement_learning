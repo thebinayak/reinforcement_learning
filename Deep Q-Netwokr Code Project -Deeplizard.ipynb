{
 "cells": [
  {
   "cell_type": "markdown",
   "metadata": {},
   "source": [
    "## Cart and Pole problem"
   ]
  },
  {
   "cell_type": "markdown",
   "metadata": {},
   "source": [
    "Installation\n",
    "To get started, you'll need to have Python 3.5+ installed. Simply install gym using pip:"
   ]
  },
  {
   "cell_type": "code",
   "execution_count": 1,
   "metadata": {},
   "outputs": [],
   "source": [
    "#pip install gym"
   ]
  },
  {
   "cell_type": "markdown",
   "metadata": {},
   "source": [
    "And you're good to go!\n",
    "\n",
    "Building from source\n",
    "If you prefer, you can also clone the gym Git repository directly. This is particularly useful when you're working on modifying Gym itself or adding environments. Download and install using\n",
    "\n",
    "git clone https://github.com/openai/gym\n",
    "cd gym\n",
    "pip install -e"
   ]
  },
  {
   "cell_type": "markdown",
   "metadata": {},
   "source": [
    "# Install PyTorch"
   ]
  },
  {
   "cell_type": "code",
   "execution_count": 2,
   "metadata": {},
   "outputs": [],
   "source": [
    "#conda install pytorch-cpu torchvision-cpu -c pytorch"
   ]
  },
  {
   "cell_type": "code",
   "execution_count": 3,
   "metadata": {},
   "outputs": [
    {
     "name": "stdout",
     "output_type": "stream",
     "text": [
      "This is 0 iteration.\n",
      "This is 1 iteration.\n",
      "This is 2 iteration.\n",
      "This is 3 iteration.\n",
      "This is 4 iteration.\n",
      "This is 5 iteration.\n",
      "This is 6 iteration.\n",
      "This is 7 iteration.\n",
      "This is 8 iteration.\n",
      "This is 9 iteration.\n",
      "This is 10 iteration.\n",
      "This is 11 iteration.\n",
      "This is 12 iteration.\n"
     ]
    },
    {
     "name": "stderr",
     "output_type": "stream",
     "text": [
      "/home/ssdl/anaconda3.1/lib/python3.7/site-packages/gym/logger.py:30: UserWarning: \u001b[33mWARN: You are calling 'step()' even though this environment has already returned done = True. You should always call 'reset()' once you receive 'done = True' -- any further steps are undefined behavior.\u001b[0m\n",
      "  warnings.warn(colorize('%s: %s'%('WARN', msg % args), 'yellow'))\n"
     ]
    },
    {
     "name": "stdout",
     "output_type": "stream",
     "text": [
      "This is 13 iteration.\n",
      "This is 14 iteration.\n",
      "This is 15 iteration.\n",
      "This is 16 iteration.\n",
      "This is 17 iteration.\n",
      "This is 18 iteration.\n",
      "This is 19 iteration.\n",
      "This is 20 iteration.\n",
      "This is 21 iteration.\n",
      "This is 22 iteration.\n",
      "This is 23 iteration.\n",
      "This is 24 iteration.\n",
      "This is 25 iteration.\n",
      "This is 26 iteration.\n",
      "This is 27 iteration.\n",
      "This is 28 iteration.\n",
      "This is 29 iteration.\n",
      "This is 30 iteration.\n",
      "This is 31 iteration.\n",
      "This is 32 iteration.\n",
      "This is 33 iteration.\n",
      "This is 34 iteration.\n",
      "This is 35 iteration.\n",
      "This is 36 iteration.\n",
      "This is 37 iteration.\n",
      "This is 38 iteration.\n",
      "This is 39 iteration.\n",
      "This is 40 iteration.\n",
      "This is 41 iteration.\n",
      "This is 42 iteration.\n",
      "This is 43 iteration.\n",
      "This is 44 iteration.\n",
      "This is 45 iteration.\n",
      "This is 46 iteration.\n",
      "This is 47 iteration.\n",
      "This is 48 iteration.\n",
      "This is 49 iteration.\n",
      "This is 50 iteration.\n",
      "This is 51 iteration.\n",
      "This is 52 iteration.\n",
      "This is 53 iteration.\n",
      "This is 54 iteration.\n",
      "This is 55 iteration.\n",
      "This is 56 iteration.\n",
      "This is 57 iteration.\n",
      "This is 58 iteration.\n",
      "This is 59 iteration.\n",
      "This is 60 iteration.\n",
      "This is 61 iteration.\n",
      "This is 62 iteration.\n",
      "This is 63 iteration.\n",
      "This is 64 iteration.\n",
      "This is 65 iteration.\n",
      "This is 66 iteration.\n",
      "This is 67 iteration.\n",
      "This is 68 iteration.\n",
      "This is 69 iteration.\n",
      "This is 70 iteration.\n",
      "This is 71 iteration.\n",
      "This is 72 iteration.\n",
      "This is 73 iteration.\n",
      "This is 74 iteration.\n",
      "This is 75 iteration.\n",
      "This is 76 iteration.\n",
      "This is 77 iteration.\n",
      "This is 78 iteration.\n",
      "This is 79 iteration.\n",
      "This is 80 iteration.\n",
      "This is 81 iteration.\n",
      "This is 82 iteration.\n",
      "This is 83 iteration.\n",
      "This is 84 iteration.\n",
      "This is 85 iteration.\n",
      "This is 86 iteration.\n",
      "This is 87 iteration.\n",
      "This is 88 iteration.\n",
      "This is 89 iteration.\n",
      "This is 90 iteration.\n",
      "This is 91 iteration.\n",
      "This is 92 iteration.\n",
      "This is 93 iteration.\n",
      "This is 94 iteration.\n",
      "This is 95 iteration.\n",
      "This is 96 iteration.\n",
      "This is 97 iteration.\n",
      "This is 98 iteration.\n",
      "This is 99 iteration.\n"
     ]
    }
   ],
   "source": [
    "import gym\n",
    "env = gym.make('CartPole-v0')\n",
    "env.reset()\n",
    "for i in range(100):\n",
    "    env.render()\n",
    "    env.step(env.action_space.sample())\n",
    "    print(f\"This is {i} iteration.\")\n",
    "env.close()"
   ]
  },
  {
   "cell_type": "markdown",
   "metadata": {},
   "source": [
    "No optimization and no instruction for when to end an episode"
   ]
  },
  {
   "cell_type": "markdown",
   "metadata": {},
   "source": [
    "## STEPS for running Reinforcement Learning Projects\n",
    "1. Initialize replay memory capacity.\n",
    "2. Initialize the policy network with random weights.\n",
    "3. Clone the policy network, and call it the target network.\n",
    "4. For each episode:\n",
    "    1. Initialize the starting state.\n",
    "    2. For each time step:\n",
    "        1. Select and action.\n",
    "            - Via exploration or exploitation\n",
    "        2. Execute selected action in an emulator\n",
    "        3. Observe reward and next state.\n",
    "        4. Store experience in replay memory.\n",
    "        5. Sample random batch from replay memory.\n",
    "        6. Preprocess states from batch.\n",
    "        7. Pass batch of preprocessed states to policy network.\n",
    "        8. Calculate loss between output Q-values and target Q-values:\n",
    "            - Requires a pass to the target network for the next state\n",
    "        9. Gradient descent updates weights in the policy network to minimize loss:\n",
    "            - After x time steps, weights in the target network are updated to the weights in the policy network."
   ]
  },
  {
   "cell_type": "markdown",
   "metadata": {},
   "source": [
    "## Import Libraries"
   ]
  },
  {
   "cell_type": "code",
   "execution_count": 4,
   "metadata": {},
   "outputs": [],
   "source": [
    "%matplotlib inline\n",
    "import gym\n",
    "import math\n",
    "import random\n",
    "import numpy as np\n",
    "import matplotlib\n",
    "import matplotlib.pyplot as plt\n",
    "from collections import namedtuple\n",
    "from itertools import count\n",
    "from PIL import Image\n",
    "import torch\n",
    "import torch.nn as nn\n",
    "import torch.optim as optim\n",
    "import torch.nn.functional as F\n",
    "import torchvision.transforms as T"
   ]
  },
  {
   "cell_type": "markdown",
   "metadata": {},
   "source": [
    "## Set up display"
   ]
  },
  {
   "cell_type": "code",
   "execution_count": 5,
   "metadata": {},
   "outputs": [],
   "source": [
    "is_ipython = 'inline' in matplotlib.get_backend()\n",
    "if is_ipython : from IPython import display"
   ]
  },
  {
   "cell_type": "markdown",
   "metadata": {},
   "source": [
    "## Deep Q-Network"
   ]
  },
  {
   "cell_type": "code",
   "execution_count": 6,
   "metadata": {},
   "outputs": [],
   "source": [
    "class DQN(nn.Module):\n",
    "    '''\n",
    "    To build a neural network with Pi Torch, we use the torch.nn package which we have given alias as nn (when importing)\n",
    "    torch.nn package contains all the typical components needed to build neural networkd.\n",
    "    Within the nn package, there's a class called 'module', Module is the base class for all neural network modules\n",
    "    and so our netword and all of its layers will extend the nn.module.\n",
    "    \n",
    "    Our DQN will receive screenshot like images of the cart and pull environment as input, so to create DQN object\n",
    "    will require the height and width of the image that will be passed to the model.\n",
    "    '''\n",
    "    def __init__(self, img_height, img_width):\n",
    "        super().__init__()\n",
    "        \n",
    "        self.fc1 = nn.Linear(in_features=img_height*img_width*3, out_features=24)\n",
    "        self.fc2 = nn.Linear(in_features = 24, out_features = 32)\n",
    "        self.out = nn.Linear(in_features = 32, out_features =2)\n",
    "        \n",
    "    def forward(self, t):\n",
    "        t = t.flatten(start_dim=1)\n",
    "        t = F.relu(self.fc1(t))\n",
    "        t = F.relu(self.fc2(t))\n",
    "        t = self.out(t)\n",
    "        return t"
   ]
  },
  {
   "cell_type": "markdown",
   "metadata": {},
   "source": [
    "## Experience class"
   ]
  },
  {
   "cell_type": "code",
   "execution_count": 7,
   "metadata": {},
   "outputs": [],
   "source": [
    "Experience = namedtuple('Experience', ('state', 'action', 'next_state', 'reward'))"
   ]
  },
  {
   "cell_type": "code",
   "execution_count": 8,
   "metadata": {},
   "outputs": [],
   "source": [
    "e = Experience(2, 3, 1, 4)"
   ]
  },
  {
   "cell_type": "code",
   "execution_count": 9,
   "metadata": {},
   "outputs": [
    {
     "data": {
      "text/plain": [
       "Experience(state=2, action=3, next_state=1, reward=4)"
      ]
     },
     "execution_count": 9,
     "metadata": {},
     "output_type": "execute_result"
    }
   ],
   "source": [
    "e"
   ]
  },
  {
   "cell_type": "markdown",
   "metadata": {},
   "source": [
    "## Replay Memory"
   ]
  },
  {
   "cell_type": "code",
   "execution_count": 10,
   "metadata": {},
   "outputs": [],
   "source": [
    "class ReplayMemory():\n",
    "    def __init__(self, capacity):\n",
    "        self.capacity = capacity\n",
    "        self.memory = []\n",
    "        self.push_count = 0 # Create push_count attribute and initialize to 0, this is used to keep track of how many experiences we've added to memory\n",
    "        \n",
    "    def push(self, experience):\n",
    "        if len(self.memory) < self.capacity:\n",
    "            self.memory.append(experience)\n",
    "        else:\n",
    "            self.memory[self.push_count % self.capacity] = experience\n",
    "            \n",
    "        self.push_count += 1\n",
    "        \n",
    "    def sample(self, batch_size):\n",
    "        return random.sample(self.memory, batch_size)\n",
    "    \n",
    "    def can_provide_sample(self, batch_size):\n",
    "        return len(self.memory) >= batch_size"
   ]
  },
  {
   "cell_type": "markdown",
   "metadata": {},
   "source": [
    "## Epsilon Greedy Strategy"
   ]
  },
  {
   "cell_type": "code",
   "execution_count": 11,
   "metadata": {},
   "outputs": [],
   "source": [
    "class EpsilonGreedyStrategy():\n",
    "    def __init__(self, start, end, decay):\n",
    "        self.start = start\n",
    "        self.end = end\n",
    "        self.decay = decay\n",
    "        \n",
    "    def get_exploration_rate(self, current_step):\n",
    "        return self.end + (self.start - self.end) * math.exp(-1. * current_step * self.decay)"
   ]
  },
  {
   "cell_type": "markdown",
   "metadata": {},
   "source": [
    "## Reinforcement Learning Agent"
   ]
  },
  {
   "cell_type": "code",
   "execution_count": 12,
   "metadata": {},
   "outputs": [],
   "source": [
    "class Agent():\n",
    "    def __init__(self, strategy, num_actions, device): # num_actions = how many possible actions that agent can take from a given state\n",
    "        self.strategy = strategy\n",
    "        self.num_actions = num_actions\n",
    "        self.device = device\n",
    "        self.current_step = 0\n",
    "        \n",
    "    def select_action(self, state, policy_net):\n",
    "        rate = strategy.get_exploration_rate(self.current_step)\n",
    "        self.current_step += 1\n",
    "        \n",
    "        if rate > random.random():\n",
    "            action = random.randrange(self.num_actions) # This was the mistake\n",
    "            return torch.tensor([action]).to(device) #explore\n",
    "        else:\n",
    "            with torch.no_grad(): # Turn off gradient tracking since we're currently using the model just for inference and not training\n",
    "                return policy_net(state).argmax(dim=1).to(device) # exploit #initially it was .item()"
   ]
  },
  {
   "cell_type": "markdown",
   "metadata": {},
   "source": [
    "## Environment Manager"
   ]
  },
  {
   "cell_type": "code",
   "execution_count": 13,
   "metadata": {},
   "outputs": [],
   "source": [
    "class CartPoleEnvManager():\n",
    "    def __init__(self, device):\n",
    "        self.device = device\n",
    "        self.env = gym.make('CartPole-v0').unwrapped\n",
    "        self.env.reset()\n",
    "        self.current_screen = None\n",
    "        self.done = False\n",
    "        \n",
    "    def reset(self):\n",
    "        self.env.reset()\n",
    "        self.current_screen = None\n",
    "        \n",
    "    def close (self):\n",
    "        self.env.close()\n",
    "        \n",
    "    def render(self, mode='human'):\n",
    "        return self.env.render(mode)\n",
    "    \n",
    "    def num_actions_available(self):\n",
    "        return self.env.action_space.n\n",
    "    \n",
    "    def take_action(self, action):\n",
    "        _, reward, self.done, _ = self.env.step(action.item()) # env.step(env.action_space.sample())\n",
    "       # _, reward, self.done, _ = self.env.step(action) #self.done\n",
    "        return torch.tensor([reward], device=self.device)\n",
    "    \n",
    "    def just_starting(self):\n",
    "        return self.current_screen is None\n",
    "    \n",
    "    def get_state(self):\n",
    "        if self.just_starting() or self.done:\n",
    "            self.current_screen = self.get_processed_screen()\n",
    "            black_screen = torch.zeros_like(self.current_screen)\n",
    "            return black_screen\n",
    "        \n",
    "        else:\n",
    "            s1 = self.current_screen\n",
    "            s2 = self.get_processed_screen()\n",
    "            self.current_screen = s2\n",
    "            return s2 - s1\n",
    "        \n",
    "    def get_screen_height (self):\n",
    "        screen = self.get_processed_screen()\n",
    "        return screen.shape[2]\n",
    "    \n",
    "    def get_screen_width (self):\n",
    "        screen = self.get_processed_screen()\n",
    "        return screen.shape[3]\n",
    "    \n",
    "    def get_processed_screen (self):\n",
    "        screen = self.render('rgb_array').transpose((2, 0 , 1)) # PyTorch DQN expects\n",
    "        screen = self.crop_screen(screen)\n",
    "        return self.transform_screen_data(screen)\n",
    "    \n",
    "    def crop_screen (self, screen):\n",
    "        screen_height = screen.shape[1]\n",
    "        \n",
    "        # Strip off top and bottom\n",
    "        top = int(screen_height * 0.4)\n",
    "        bottom = int(screen_height * 0.8)\n",
    "        screen = screen [:, top:bottom, :]\n",
    "        return screen\n",
    "    \n",
    "    def transform_screen_data (self, screen):\n",
    "        # Convert to float, rescale, convert to tensor\n",
    "        screen = np.ascontiguousarray(screen, dtype=np.float32) / 255\n",
    "        screen = torch.from_numpy(screen)\n",
    "        \n",
    "        # Use torchvision package to compose image transforms\n",
    "        resize = T.Compose([T.ToPILImage(), T.Resize((40, 90)), T.ToTensor()]) #steps to execute(1, 2, 3, ...)\n",
    "        return resize(screen).unsqueeze(0).to(self.device) # Add a batch dimension since the processed images will be passed to DQN\n",
    "    "
   ]
  },
  {
   "cell_type": "markdown",
   "metadata": {},
   "source": [
    "## Example of non-processed screen"
   ]
  },
  {
   "cell_type": "code",
   "execution_count": 14,
   "metadata": {},
   "outputs": [
    {
     "data": {
      "image/png": "[encoded data removed]",
      "text/plain": [
       "<Figure size 432x288 with 1 Axes>"
      ]
     },
     "metadata": {
      "needs_background": "light"
     },
     "output_type": "display_data"
    }
   ],
   "source": [
    "import os\n",
    "os.environ['KMP_DUPLICATE_LIB_OK']='True'\n",
    "\n",
    "\n",
    "device = torch.device(\"cuda\" if torch.cuda.is_available() else \"cpu\")\n",
    "em = CartPoleEnvManager(device)\n",
    "em.reset()\n",
    "screen = em.render('rgb_array')\n",
    "\n",
    "plt.figure()\n",
    "plt.imshow(screen)\n",
    "plt.title('Non-processed screen example')\n",
    "plt.show(block=False)\n",
    "plt.pause(3)\n",
    "plt.close()\n",
    "#em.close()"
   ]
  },
  {
   "cell_type": "markdown",
   "metadata": {},
   "source": [
    "## Example of processed screen"
   ]
  },
  {
   "cell_type": "code",
   "execution_count": 15,
   "metadata": {},
   "outputs": [
    {
     "data": {
      "image/png": "[encoded data removed]",
      "text/plain": [
       "<Figure size 432x288 with 1 Axes>"
      ]
     },
     "metadata": {
      "needs_background": "light"
     },
     "output_type": "display_data"
    }
   ],
   "source": [
    "\n",
    "device = torch.device(\"cuda\" if torch.cuda.is_available() else \"cpu\")\n",
    "em = CartPoleEnvManager(device)\n",
    "em.reset()\n",
    "\n",
    "screen = em.get_processed_screen()\n",
    "\n",
    "\n",
    "plt.figure()\n",
    "plt.imshow(screen.squeeze(0).permute(1, 2, 0), interpolation='none')\n",
    "plt.title('Processed screen example')\n",
    "plt.show()\n",
    "plt.pause(3)\n",
    "plt.close()\n",
    "#em.close()"
   ]
  },
  {
   "cell_type": "markdown",
   "metadata": {},
   "source": [
    "## Example of starting state"
   ]
  },
  {
   "cell_type": "code",
   "execution_count": 16,
   "metadata": {},
   "outputs": [
    {
     "data": {
      "image/png": "[encoded data removed]",
      "text/plain": [
       "<Figure size 432x288 with 1 Axes>"
      ]
     },
     "metadata": {
      "needs_background": "light"
     },
     "output_type": "display_data"
    }
   ],
   "source": [
    "screen = em.get_state()\n",
    "\n",
    "plt.figure()\n",
    "plt.imshow(screen.squeeze(0).permute(1, 2, 0), interpolation='none')\n",
    "plt.title('Processed screen example')\n",
    "plt.show()\n",
    "plt.pause(3)\n",
    "plt.close()"
   ]
  },
  {
   "cell_type": "markdown",
   "metadata": {},
   "source": [
    "## Example of non-starting state"
   ]
  },
  {
   "cell_type": "code",
   "execution_count": 17,
   "metadata": {},
   "outputs": [
    {
     "name": "stderr",
     "output_type": "stream",
     "text": [
      "Clipping input data to the valid range for imshow with RGB data ([0..1] for floats or [0..255] for integers).\n"
     ]
    },
    {
     "data": {
      "image/png": "[encoded data removed]",
      "text/plain": [
       "<Figure size 432x288 with 1 Axes>"
      ]
     },
     "metadata": {
      "needs_background": "light"
     },
     "output_type": "display_data"
    }
   ],
   "source": [
    "for i in range(5):\n",
    "    em.take_action(torch.tensor([1]))\n",
    "    \n",
    "screen = em.get_state()\n",
    "\n",
    "plt.figure()\n",
    "plt.imshow(screen.squeeze(0).permute(1, 2, 0), interpolation='none')\n",
    "plt.title('Processed screen example')\n",
    "plt.show()\n",
    "plt.close()"
   ]
  },
  {
   "cell_type": "markdown",
   "metadata": {},
   "source": [
    "## Exmaple of end state"
   ]
  },
  {
   "cell_type": "code",
   "execution_count": 18,
   "metadata": {},
   "outputs": [
    {
     "data": {
      "image/png": "[encoded data removed]",
      "text/plain": [
       "<Figure size 432x288 with 1 Axes>"
      ]
     },
     "metadata": {
      "needs_background": "light"
     },
     "output_type": "display_data"
    }
   ],
   "source": [
    "em.done = True\n",
    "screen = em.get_state()\n",
    "\n",
    "plt.figure()\n",
    "plt.imshow(screen.squeeze(0).permute(1, 2, 0), interpolation='none')\n",
    "plt.title('Processed screen example')\n",
    "plt.show()\n",
    "#em.close()\n",
    "plt.close()"
   ]
  },
  {
   "cell_type": "markdown",
   "metadata": {},
   "source": [
    "## Utility functions"
   ]
  },
  {
   "cell_type": "markdown",
   "metadata": {},
   "source": [
    "### Plotting"
   ]
  },
  {
   "cell_type": "code",
   "execution_count": 19,
   "metadata": {},
   "outputs": [],
   "source": [
    "def plot(values, moving_avg_period):\n",
    "    plt.figure(2)\n",
    "    plt.clf()\n",
    "    plt.title('Training...')\n",
    "    plt.xlabel('Episode')\n",
    "    plt.ylabel('Duration')\n",
    "    plt.plot(values)\n",
    "    \n",
    "    plt.plot(get_moving_average(moving_avg_period, values))\n",
    "    plt.pause(0.001)\n",
    "    #print(\"Episode\", len(values), \"\\n\", moving_avg_period, \"episode moving avg:\", moving_avg[-1])\n",
    "    \n",
    "    \n",
    "    if is_ipython:\n",
    "        display.clear_output(wait=True)\n",
    "        \n",
    "def get_moving_average(period, values):\n",
    "    values = torch.tensor(values, dtype=torch.float)\n",
    "    if len(values) >= period:\n",
    "        moving_avg = values.unfold(dimension=0, size=period, step=1).mean(dim=1).flatten(start_dim=0)\n",
    "        moving_avg = torch.cat((torch.zeros(period-1), moving_avg))\n",
    "        return moving_avg.numpy()\n",
    "    else:\n",
    "        moving_avg = torch.zeros(len(values))\n",
    "        return moving_avg.numpy()\n",
    "        \n",
    "        \n"
   ]
  },
  {
   "cell_type": "code",
   "execution_count": 20,
   "metadata": {},
   "outputs": [
    {
     "data": {
      "image/png": "[encoded data removed]",
      "text/plain": [
       "<Figure size 432x288 with 1 Axes>"
      ]
     },
     "metadata": {
      "needs_background": "light"
     },
     "output_type": "display_data"
    }
   ],
   "source": [
    "plot(np.random.rand(300), 100)"
   ]
  },
  {
   "cell_type": "code",
   "execution_count": 21,
   "metadata": {},
   "outputs": [],
   "source": [
    "def extract_tensors(experiences):\n",
    "    '''Accepts a batch of experiences and first transposes it into an experience of batches.'''\n",
    "    \n",
    "    batch = Experience(*zip(*experiences)) # Call the result of this operation as in the demonstration below\n",
    "    \n",
    "    t1 = torch.cat(batch.state) # Calling torch.cat(), we extract all the states from this batch into their own state tensor\n",
    "    t2 = torch.cat(batch.action)\n",
    "    t3 = torch.cat(batch.reward)\n",
    "    t4 = torch.cat(batch.next_state)\n",
    "    \n",
    "    return (t1, t2, t3, t4) # Retun tuple that caontains the state, action, reward, next_state tensors"
   ]
  },
  {
   "cell_type": "markdown",
   "metadata": {},
   "source": [
    "### Example of Experience(*zip(*experiences)) used above\n",
    "see https://stackoverflow.com/a/19343/3343043"
   ]
  },
  {
   "cell_type": "code",
   "execution_count": 22,
   "metadata": {},
   "outputs": [
    {
     "data": {
      "text/plain": [
       "[Experience(state=1, action=1, next_state=1, reward=1),\n",
       " Experience(state=2, action=2, next_state=2, reward=2),\n",
       " Experience(state=3, action=3, next_state=3, reward=3)]"
      ]
     },
     "execution_count": 22,
     "metadata": {},
     "output_type": "execute_result"
    }
   ],
   "source": [
    "'''\n",
    "Example to understand the extract_tensors() function\n",
    "1. Create three sample experiences\n",
    "2. Put them in the list\n",
    "'''\n",
    "\n",
    "e1 = Experience(1, 1, 1, 1) #First experience has state, action, next_stage_reward all equal to 1\n",
    "e2 = Experience(2, 2, 2, 2)\n",
    "e3 = Experience(3, 3, 3, 3,)\n",
    "\n",
    "experiences = [e1, e2, e3]\n",
    "experiences"
   ]
  },
  {
   "cell_type": "code",
   "execution_count": 23,
   "metadata": {},
   "outputs": [
    {
     "data": {
      "text/plain": [
       "Experience(state=(1, 2, 3), action=(1, 2, 3), next_state=(1, 2, 3), reward=(1, 2, 3))"
      ]
     },
     "execution_count": 23,
     "metadata": {},
     "output_type": "execute_result"
    }
   ],
   "source": [
    "# Let's execute the same line from our function that we're trying to understand\n",
    "# If we execute the following lines and print it out, we can see that we do now indeed have this experience object\n",
    "# where the state attribute is set to the tuple containing all the states from e1, e2 and e3 in the original\n",
    "# experiences list. Similarly the action, next_state and reward attributes contain tuples which contain all the\n",
    "# corresponding values from the experience list. So now that we see what this line does, let's go back to\n",
    "# extract tensors to see what happens next.\n",
    "\n",
    "batch = Experience(*zip (*experiences))\n",
    "batch"
   ]
  },
  {
   "cell_type": "markdown",
   "metadata": {},
   "source": [
    "## Q-Value Calculator"
   ]
  },
  {
   "cell_type": "markdown",
   "metadata": {},
   "source": [
    "# Main Program"
   ]
  },
  {
   "cell_type": "code",
   "execution_count": 24,
   "metadata": {},
   "outputs": [],
   "source": [
    "class QValues():\n",
    "    device = torch.device(\"cuda\" if torch.cuda.is_available() else \"cpu\")\n",
    "    \n",
    "    @staticmethod\n",
    "    def get_current(policy_net, states, actions):\n",
    "        return policy_net(states).gather(dim=1, index=actions.unsqueeze(-1))\n",
    "    \n",
    "    @staticmethod\n",
    "    def get_next(target_net, next_states):\n",
    "        final_state_locations = next_states.flatten(start_dim=1).max(dim=1)[0].eq(0).type(torch.bool)\n",
    "        non_final_state_locations = (final_state_locations == False)\n",
    "        non_final_states = next_states[non_final_state_locations]\n",
    "        batch_size = next_states.shape[0]\n",
    "        values = torch.zeros(batch_size).to(QValues.device)\n",
    "        values[non_final_state_locations] = target_net(non_final_states).max(dim=1)[0].detach()\n",
    "        return values"
   ]
  },
  {
   "cell_type": "code",
   "execution_count": 25,
   "metadata": {
    "scrolled": true
   },
   "outputs": [
    {
     "data": {
      "image/png": "[encoded data removed]",
      "text/plain": [
       "<Figure size 432x288 with 1 Axes>"
      ]
     },
     "metadata": {
      "needs_background": "light"
     },
     "output_type": "display_data"
    }
   ],
   "source": [
    " ### HYPERPARAMETERS ### \n",
    "    # To show line number Ctrl + Shift + P and searc for \"line Number\"\n",
    "batch_size = 256\n",
    "gamma = 0.999\n",
    "eps_start = 1 #starting value of epsilon (epsilon is the name of exploration rate)\n",
    "eps_end = 0.01 # Ending value of epsilon\n",
    "eps_decay = 0.001 # Decay rate of epsilon overtime\n",
    "target_update = 10 # this is how frequent (in terms of episodes) will update the target nerwork's weight with the policy network's weight\n",
    "memory_size = 100000 # Capacity of rely memory \n",
    "lr = 0.001 # Learning rate  \n",
    "num_episodes = 1000\n",
    "\n",
    "\n",
    "### ESSENTIAL OBJECTS USING THE CLASSES BUILT PREVIOUSLY ###\n",
    "\n",
    "device = torch.device(\"cuda\" if torch.cuda.is_available() else \"cpu\")\n",
    "em = CartPoleEnvManager(device)\n",
    "strategy = EpsilonGreedyStrategy(eps_start, eps_end, eps_decay)\n",
    "agent = Agent(strategy, em.num_actions_available(), device)\n",
    "memory = ReplayMemory(memory_size)\n",
    "\n",
    "\n",
    "### DEFINE POLICY NETWORK AND TARGET NETWORK ### Line 20\n",
    "policy_net = DQN(em.get_screen_height(), em.get_screen_width()).to(device) # DQN(img_height, img_width)\n",
    "#print(f\"this is policy_net {policy_net}\")\n",
    "\n",
    "# =========OUTPUT=============\n",
    "'''is is policy_net DQN(\n",
    "  (fc1): Linear(in_features=10800, out_features=24, bias=True)\n",
    "  (fc2): Linear(in_features=24, out_features=32, bias=True)\n",
    "  (out): Linear(in_features=32, out_features=2, bias=True)\n",
    ")'''\n",
    "#============= END========================= Line30\n",
    "target_net = DQN(em.get_screen_height(), em.get_screen_width()).to(device)\n",
    "target_net.load_state_dict(policy_net.state_dict())\n",
    "target_net.eval()\n",
    "optimizer = optim.Adam(params=policy_net.parameters(), lr=lr)\n",
    "\n",
    "### START TRAINING ###\n",
    "\n",
    "episode_durations = []\n",
    "for episode in range (num_episodes):\n",
    "    em.reset()\n",
    "    state = em.get_state()\n",
    "    \n",
    "    for timestep in count():\n",
    "        action = agent.select_action(state, policy_net)\n",
    "        reward = em.take_action(action) # CHANGES MADE\n",
    "        next_state = em.get_state()\n",
    "        memory.push(Experience(state, action, next_state, reward))\n",
    "        state = next_state\n",
    "        \n",
    "        if memory.can_provide_sample(batch_size):\n",
    "            experiences = memory.sample(batch_size)\n",
    "            #print(f\"List of experiences {experiences}\")\n",
    "            states, actions, rewards, next_states = extract_tensors(experiences)\n",
    "            \n",
    "            current_q_values = QValues.get_current(policy_net, states, actions)\n",
    "            next_q_values = QValues.get_next(target_net, next_states)\n",
    "            target_q_values = (next_q_values * gamma) + rewards\n",
    "            \n",
    "            loss= F.mse_loss(current_q_values, target_q_values.unsqueeze(1))\n",
    "            optimizer.zero_grad() # This function creates the graduents of all the weight and biases in the policy net to 0\n",
    "            loss.backward() # 0 shoudl be called before backpropagation occurs\n",
    "            optimizer.step()\n",
    "            \n",
    "        if em.done:\n",
    "            episode_durations.append(timestep)\n",
    "            plot(episode_durations, 100) # 100 is moving average\n",
    "            break\n",
    "            \n",
    "    if episode % target_update == 0:\n",
    "        target_net.load_state_dict(policy_net.state_dict())\n",
    "        \n",
    "em.close()"
   ]
  },
  {
   "cell_type": "code",
   "execution_count": null,
   "metadata": {},
   "outputs": [],
   "source": []
  }
 ],
 "metadata": {
  "kernelspec": {
   "display_name": "Python 3",
   "language": "python",
   "name": "python3"
  },
  "language_info": {
   "codemirror_mode": {
    "name": "ipython",
    "version": 3
   },
   "file_extension": ".py",
   "mimetype": "text/x-python",
   "name": "python",
   "nbconvert_exporter": "python",
   "pygments_lexer": "ipython3",
   "version": "3.7.3"
  }
 },
 "nbformat": 4,
 "nbformat_minor": 5
}
